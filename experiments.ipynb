{
 "cells": [
  {
   "cell_type": "markdown",
   "metadata": {},
   "source": [
    "Simulated Patient "
   ]
  },
  {
   "cell_type": "code",
   "execution_count": null,
   "metadata": {},
   "outputs": [],
   "source": [
    "import pandas as pd\n",
    "import numpy as np\n",
    "import os\n",
    "\n",
    "from textwrap import wrap\n",
    "from matplotlib import pyplot as plt\n",
    "from stable_baselines3 import PPO, A2C, DQN\n",
    "from sklearn.ensemble import RandomForestClassifier"
   ]
  },
  {
   "cell_type": "code",
   "execution_count": null,
   "id": "6e5738d7",
   "metadata": {},
   "outputs": [],
   "source": [
    "from environment.fogg_behavioural_model import Patient"
   ]
  },
  {
   "cell_type": "code",
   "execution_count": null,
   "metadata": {},
   "outputs": [],
   "source": [
    "updated_every_day = 24 \n",
    "week = 7 * updated_every_day"
   ]
  },
  {
   "cell_type": "code",
   "execution_count": null,
   "metadata": {},
   "outputs": [],
   "source": [
    "eight_weeks = week * 8\n",
    "five_weeks = week * 5"
   ]
  },
  {
   "cell_type": "code",
   "execution_count": null,
   "metadata": {},
   "outputs": [],
   "source": [
    "# Basic stable condition\n",
    "condition = 'stable'\n",
    "habituation = False\n",
    "time_preference_update_step = 9999999999999999 #very high e.g. 9999999999 to make it outside of the intervention time...effectively no preference shift\n",
    "\n",
    "# Other options (not considered in the AIBI project):\n",
    "# condition = 'habituated'\n",
    "# habituation=True\n",
    "# time_preference_update_step= 9999999999999999 \n",
    "\n",
    "# condition = 'changed_preference'\n",
    "# habituation=False\n",
    "# time_preference_update_step= five_weeks\n",
    "\n",
    "# condition = 'habituated_changed_preference'\n",
    "# habituation=True\n",
    "# time_preference_update_step= five_weeks"
   ]
  },
  {
   "cell_type": "code",
   "execution_count": null,
   "metadata": {},
   "outputs": [],
   "source": [
    "# 500 runs in the paper\n",
    "runs = 50 "
   ]
  },
  {
   "cell_type": "code",
   "execution_count": null,
   "metadata": {},
   "outputs": [],
   "source": [
    "results_directory = 'results'\n",
    "if not os.path.exists(results_directory):\n",
    "    os.makedirs(results_directory)"
   ]
  },
  {
   "cell_type": "markdown",
   "metadata": {},
   "source": [
    "# No interverntion"
   ]
  },
  {
   "cell_type": "code",
   "execution_count": null,
   "metadata": {},
   "outputs": [],
   "source": [
    "sleep_list = []\n",
    "positive_list = []\n",
    "\n",
    "for run in range(0, runs):\n",
    "    \n",
    "    env1 = Patient(behaviour_threshold=20, habituation=habituation, time_preference_update_step=time_preference_update_step )\n",
    "    action = 0\n",
    "    for i in  range(eight_weeks):\n",
    "        \n",
    "        observation, reward, done, _, info = env1.step(action)\n",
    "        action = 0\n",
    "    \n",
    "    \n",
    "    sleep_list.append(env1.h_slept)\n",
    "    positive_list.append(env1.h_positive)\n",
    "\n",
    "fig = plt.figure( figsize=(8, 5))\n",
    "plt.plot(np.nanmean(sleep_list, axis=0), label='Hours slept', color ='r')\n",
    "plt.plot(np.mean(positive_list, axis=0), label='Hours in positive mood')\n",
    "plt.ylabel('Hours ')\n",
    "plt.xlabel('Intevention Days')\n",
    "plt.legend()\n",
    "plt.show()"
   ]
  },
  {
   "cell_type": "markdown",
   "metadata": {},
   "source": [
    "# Intervention"
   ]
  },
  {
   "cell_type": "code",
   "execution_count": null,
   "metadata": {},
   "outputs": [],
   "source": [
    "def intervention(method, runs, name, condition):\n",
    "    rr_random_list = []\n",
    "    not_random_list = []\n",
    "    sleep_list = []\n",
    "    positive_list = []\n",
    "    performed = 0\n",
    "    for run in range(0, runs):\n",
    "\n",
    "        env1 = Patient(behaviour_threshold=20,habituation=habituation, time_preference_update_step=time_preference_update_step)\n",
    "        env1 = method(env1)\n",
    "        if sum(env1.num_performed):\n",
    "            performed += 1\n",
    "        df = pd.DataFrame()\n",
    "        df['response_ratio'] = env1.rr\n",
    "        df['activity performed'] = env1.num_performed\n",
    "        df['notifications'] = env1.num_notified\n",
    "        df['sleep'] = env1.h_slept\n",
    "        df['positive'] = env1.h_positive\n",
    "        df['non_stationary'] = env1.h_nonstationary\n",
    "        \n",
    "        df.to_csv(\"{0}/patient1_{1}_{2}_run{3}.csv\".format(results_directory, condition, name, run))\n",
    "        rr_random_list.append(df.response_ratio)\n",
    "        not_random_list.append(df.notifications)\n",
    "        sleep_list.append(df.sleep)\n",
    "        positive_list.append(df.positive)\n",
    "\n",
    "    \n",
    "    print(\"This figures include runs in which no prompt resulted in the activity being performed\")\n",
    "    print(\"{0} out of {1} resulted in activity being performed \".format(performed, runs))\n",
    "    fig = plt.figure( figsize=(8, 5))\n",
    "    plt.plot(np.nanmean(np.array(sleep_list), axis=0), label='Hours slept', color ='r')\n",
    "    plt.plot(np.mean(positive_list, axis=0), label='Hours in positive mood')\n",
    "    plt.ylabel('Hours ')\n",
    "    plt.xlabel('Intevention Days')\n",
    "    plt.legend()\n",
    "    plt.show()\n",
    "\n",
    "    fig, (ax1, ax2) = plt.subplots(2, 1, sharex=True, sharey=False, figsize=(10, 8))\n",
    "    ax1.plot(np.nanmean(rr_random_list, axis=0), label='response ratio', color ='r')\n",
    "    ax2.plot(np.nanmean(not_random_list, axis=0), label='num of notifications')\n",
    "    ax2.set_xlabel('Intervention days')\n",
    "    ax2.set_ylabel('No. of notifications')\n",
    "    ax1.set_ylabel('Response ratio')\n",
    "    plt.show()\n",
    "    return sleep_list, positive_list, rr_random_list, not_random_list"
   ]
  },
  {
   "cell_type": "markdown",
   "metadata": {},
   "source": [
    "## Heuristic\n",
    "\n",
    "Notify every hour except in night and when the patient is alseep"
   ]
  },
  {
   "cell_type": "code",
   "execution_count": null,
   "metadata": {},
   "outputs": [],
   "source": [
    "def always_notify(env1, intervention_legth=eight_weeks):\n",
    "    \n",
    "    action = 0\n",
    "    for i in  range(intervention_legth):\n",
    "        \n",
    "        observation, _, _, _, _ = env1.step(action)\n",
    "        if observation[9] == 3 or observation[3] ==1:\n",
    "            action = 0\n",
    "        else:\n",
    "            action = 1\n",
    "            \n",
    "    return env1"
   ]
  },
  {
   "cell_type": "code",
   "execution_count": null,
   "metadata": {},
   "outputs": [],
   "source": [
    "sleep_listh, positive_listh, rr_h_list, not_h_list = intervention(always_notify, runs, 'h', condition)"
   ]
  },
  {
   "cell_type": "markdown",
   "metadata": {},
   "source": [
    "## Random \n",
    "Randomly sample during the day skip the nights"
   ]
  },
  {
   "cell_type": "code",
   "execution_count": null,
   "metadata": {},
   "outputs": [],
   "source": [
    "def random_notification(env1, intervention_legth=eight_weeks):\n",
    "    \n",
    "    action = 0\n",
    "    for i in  range(intervention_legth):\n",
    "        \n",
    "        observation, _, _, _, _ = env1.step(action)\n",
    "        if observation[9] ==3:\n",
    "            action = 0\n",
    "        else:\n",
    "            action = env1.action_space.sample()\n",
    "            \n",
    "    return env1"
   ]
  },
  {
   "cell_type": "code",
   "execution_count": null,
   "metadata": {},
   "outputs": [],
   "source": [
    "%time _ = intervention(random_notification, runs, 'random', condition)"
   ]
  },
  {
   "cell_type": "code",
   "execution_count": null,
   "id": "afb59536",
   "metadata": {},
   "outputs": [],
   "source": [
    "def get_rr_and_notification(name, runs, condition):\n",
    "    \n",
    "    rr, noti = [],[]\n",
    "    failed = 0\n",
    "    for run in range(runs):\n",
    "        df = pd.read_csv(\"{0}/patient1_{1}_{2}_run{3}.csv\".format(results_directory,condition, name, run))\n",
    "        a_performed = sum(df['activity performed'].values)\n",
    "        if a_performed > 0: # activity performed at least once in the course of the intervention\n",
    "            rr.append(df.response_ratio)\n",
    "            noti.append(df.notifications)\n",
    "        else:\n",
    "            failed = failed +1 \n",
    "    print(\" {0} out of {1} runs had no activity performed throughout the full intervention.\".format(failed, runs))\n",
    "    return rr, noti, failed"
   ]
  },
  {
   "cell_type": "code",
   "execution_count": null,
   "metadata": {},
   "outputs": [],
   "source": [
    "rr_random_list, not_random_list, fppo = get_rr_and_notification('random', runs, condition)"
   ]
  },
  {
   "cell_type": "markdown",
   "metadata": {},
   "source": [
    "## Supervised Learning\n",
    "\n",
    "### Static model"
   ]
  },
  {
   "cell_type": "code",
   "execution_count": null,
   "metadata": {
    "tags": []
   },
   "outputs": [],
   "source": [
    "def supervised_after_three_weeks(env1):\n",
    "    \n",
    "    three_weeks = 24 * 7 * 3\n",
    "    env1 = always_notify(env1, intervention_legth=three_weeks)\n",
    "    clf = RandomForestClassifier(class_weight='balanced')\n",
    "    clf.fit(env1.observation_list, env1.activity_performed)\n",
    "    remaining_time = eight_weeks - three_weeks\n",
    "    observation = env1._get_current_state()\n",
    "    for i in range(remaining_time):\n",
    "        # applying supervised model\n",
    "        action = clf.predict(np.array([observation]))[0]\n",
    "        observation, _, _, _, _ = env1.step(action)\n",
    "        \n",
    "    return env1"
   ]
  },
  {
   "cell_type": "code",
   "execution_count": null,
   "metadata": {
    "tags": []
   },
   "outputs": [],
   "source": [
    "%time _ = intervention(supervised_after_three_weeks,runs , 'static_sup3', condition)"
   ]
  },
  {
   "cell_type": "markdown",
   "metadata": {},
   "source": [
    "### Adaptive model "
   ]
  },
  {
   "cell_type": "code",
   "execution_count": null,
   "metadata": {},
   "outputs": [],
   "source": [
    "def supervised_adaptive_after_three_weeks(env1):\n",
    "    \n",
    "    three_weeks = 24*7*3\n",
    "    env1 = always_notify(env1, intervention_legth=three_weeks)\n",
    "    clf = RandomForestClassifier(class_weight='balanced')\n",
    "    clf.fit(env1.observation_list, env1.activity_performed)\n",
    "    remaining_time = eight_weeks - three_weeks\n",
    "    observation = env1._get_current_state()\n",
    "    samples = len(env1.observation_list)\n",
    "    for i in range(remaining_time):\n",
    "        # applying supervised model\n",
    "        action = clf.predict(np.array([observation]))[0]\n",
    "        observation, _, _, _, _ = env1.step(action)\n",
    "        if len(env1.observation_list)> samples: # retrain when new samples are provided\n",
    "            clf = RandomForestClassifier(class_weight='balanced')\n",
    "            clf.fit(env1.observation_list, env1.activity_performed)\n",
    "            samples = len(env1.observation_list)\n",
    "            \n",
    "        \n",
    "    return env1"
   ]
  },
  {
   "cell_type": "code",
   "execution_count": null,
   "metadata": {},
   "outputs": [],
   "source": [
    "%time _ = intervention(supervised_adaptive_after_three_weeks, runs, 'adaptive_sup3', condition)"
   ]
  },
  {
   "cell_type": "markdown",
   "metadata": {},
   "source": [
    "### How many times supervised training faild?"
   ]
  },
  {
   "cell_type": "code",
   "execution_count": null,
   "metadata": {},
   "outputs": [],
   "source": [
    "rr_rf3_list, not_rf3_list, frf3 = get_rr_and_notification('static_sup3', runs, condition)"
   ]
  },
  {
   "cell_type": "code",
   "execution_count": null,
   "metadata": {},
   "outputs": [],
   "source": [
    "rr_rf3a_list, not_rf3a_list, frf3a = get_rr_and_notification('adaptive_sup3', runs, condition)"
   ]
  },
  {
   "cell_type": "markdown",
   "metadata": {},
   "source": [
    "## Deep Q Network"
   ]
  },
  {
   "cell_type": "code",
   "execution_count": null,
   "metadata": {},
   "outputs": [],
   "source": [
    "def dqn(env1):\n",
    "    model = DQN(\"MlpPolicy\", env1, verbose=0, learning_starts=updated_every_day)\n",
    "    model.learn(total_timesteps=eight_weeks)\n",
    "    return env1"
   ]
  },
  {
   "cell_type": "code",
   "execution_count": null,
   "metadata": {},
   "outputs": [],
   "source": [
    "%time _= intervention(dqn, runs, 'dqn', condition)"
   ]
  },
  {
   "cell_type": "code",
   "execution_count": null,
   "metadata": {},
   "outputs": [],
   "source": [
    "rr_dqn_list, not_dqn_list, fdqn = get_rr_and_notification('dqn', runs, condition)"
   ]
  },
  {
   "cell_type": "markdown",
   "metadata": {},
   "source": [
    "## Proximal Policy Optimisation"
   ]
  },
  {
   "cell_type": "code",
   "execution_count": null,
   "metadata": {
    "tags": []
   },
   "outputs": [],
   "source": [
    "def ppo(env1):\n",
    "    model = PPO(\"MlpPolicy\", env1, verbose=0, n_steps=updated_every_day, batch_size=updated_every_day)\n",
    "    model.learn(total_timesteps=eight_weeks)\n",
    "    return env1"
   ]
  },
  {
   "cell_type": "code",
   "execution_count": null,
   "metadata": {},
   "outputs": [],
   "source": [
    "%time _= intervention(ppo, runs, 'ppo', condition)"
   ]
  },
  {
   "cell_type": "code",
   "execution_count": null,
   "metadata": {},
   "outputs": [],
   "source": [
    "rr_ppo_list, not_ppo_list, fppo = get_rr_and_notification('ppo', runs, condition)"
   ]
  },
  {
   "cell_type": "markdown",
   "metadata": {},
   "source": [
    "## Advantage Actor Critic"
   ]
  },
  {
   "cell_type": "code",
   "execution_count": null,
   "metadata": {
    "tags": []
   },
   "outputs": [],
   "source": [
    "def a2c(env1):\n",
    "    model = A2C(\"MlpPolicy\", env1, verbose=0, n_steps=updated_every_day)\n",
    "    model.learn(total_timesteps=eight_weeks)\n",
    "    return env1"
   ]
  },
  {
   "cell_type": "code",
   "execution_count": null,
   "metadata": {
    "collapsed": true,
    "jupyter": {
     "outputs_hidden": true
    },
    "tags": []
   },
   "outputs": [],
   "source": [
    "%time _ = intervention(a2c, runs, 'a2c', condition)"
   ]
  },
  {
   "cell_type": "code",
   "execution_count": null,
   "metadata": {},
   "outputs": [],
   "source": [
    "rr_a2c_list, not_a2c_list, fppo = get_rr_and_notification('a2c', runs, condition)"
   ]
  },
  {
   "cell_type": "markdown",
   "metadata": {
    "tags": []
   },
   "source": [
    "## Comparison between prompt learning stategies"
   ]
  },
  {
   "cell_type": "code",
   "execution_count": null,
   "metadata": {},
   "outputs": [],
   "source": [
    "fig, (ax1,ax2) = plt.subplots(2, 1, sharex=True, sharey=False, figsize=(10,10))\n",
    "ax1.plot(np.nanmean(rr_random_list, axis=0), label='Random')\n",
    "ax1.plot(np.nanmean(rr_rf3_list, axis=0), label='RF static')\n",
    "ax1.plot(np.nanmean(rr_rf3a_list, axis=0), label='RF adaptive')\n",
    "ax1.plot(np.nanmean(rr_dqn_list, axis=0), label='DQN')\n",
    "ax1.plot(np.nanmean(rr_ppo_list, axis=0), label='PPO')\n",
    "ax1.plot(np.nanmean(rr_a2c_list, axis=0), label='A2C')\n",
    "\n",
    "\n",
    "ax2.plot(np.nanmean(not_random_list, axis=0), label='Random')\n",
    "ax2.plot(np.nanmean(not_rf3_list, axis=0), label='RF static')\n",
    "ax2.plot(np.nanmean(not_rf3a_list, axis=0), label='RF adaptive')\n",
    "ax2.plot(np.nanmean(not_dqn_list, axis=0), label='DQN')\n",
    "ax2.plot(np.nanmean(not_ppo_list, axis=0), label='PPO')\n",
    "ax2.plot(np.nanmean(not_a2c_list, axis=0), label='A2C')\n",
    "ax2.plot(np.ones(len(np.mean(not_random_list, axis=0))) +2, label ='Preferred number of notifications a day')\n",
    "\n",
    "ax2.set_xlabel('Intervention Days', fontsize=16)\n",
    "ax2.set_ylabel('\\n'.join(wrap('Numbers of notifications', 20)), fontsize=16)\n",
    "ax1.set_ylabel('\\n'.join(wrap('Activity performed to prompt ratio', 20)) )\n",
    "# ax3.set_ylabel( '\\n'.join(wrap('Hours slept', 20)) )\n",
    "# plt.ylim(0, 0.95)\n",
    "ax2.legend(fontsize=13)\n",
    "plt.xticks(fontsize=14)\n",
    "plt.yticks(fontsize=14)\n",
    "plt.show()"
   ]
  },
  {
   "cell_type": "code",
   "execution_count": null,
   "metadata": {},
   "outputs": [],
   "source": []
  }
 ],
 "metadata": {
  "interpreter": {
   "hash": "2d75e59403798c4677170d00bbf4f5c6471b09e4dee8847e501b2bf55ae87098"
  },
  "kernelspec": {
   "display_name": "Python 3.8.11 64-bit ('rl': conda)",
   "name": "python3"
  },
  "language_info": {
   "codemirror_mode": {
    "name": "ipython",
    "version": 3
   },
   "file_extension": ".py",
   "mimetype": "text/x-python",
   "name": "python",
   "nbconvert_exporter": "python",
   "pygments_lexer": "ipython3",
   "version": "3.9.19"
  },
  "toc-autonumbering": true
 },
 "nbformat": 4,
 "nbformat_minor": 5
}
